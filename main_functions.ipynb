{
 "cells": [
  {
   "cell_type": "code",
   "execution_count": 1,
   "metadata": {},
   "outputs": [],
   "source": [
    "## function to display multiple tables side by side\n",
    "def multi_table(table_list):\n",
    "    ''' Acceps a list of IpyTable objects and returns a table which contains each IpyTable in a cell\n",
    "    '''\n",
    "    return HTML(\n",
    "        '<table><tr style=\"background-color:white;\">' + \n",
    "        ''.join(['<td>' + table._repr_html_() + '</td>' for table in table_list]) +\n",
    "        '</tr></table>'\n",
    "    )"
   ]
  },
  {
   "cell_type": "code",
   "execution_count": 2,
   "metadata": {},
   "outputs": [],
   "source": [
    "## function to make the league table\n",
    "def make_league_table(clubs, df):\n",
    "    ## dictionary will contain data for each club\n",
    "    league_table = dict()\n",
    "    \n",
    "    ## iterate though club and fill in the values in league_table dictionary\n",
    "    for club in clubs:\n",
    "        ## match played, win, draw, lose, goals for, goals against, goal difference, clean sheets, points\n",
    "        mp, w, d, l, gf, ga, gd, cs, pts = 0, 0, 0, 0, 0, 0, 0, 0, 0\n",
    "        \n",
    "        for i in range(len(df)):\n",
    "            if df.iloc[i]['HomeTeam'] == club:\n",
    "                if df.iloc[i]['FTR'] == 'H':\n",
    "                    w += 1\n",
    "                    pts += 3\n",
    "                elif df.iloc[i]['FTR'] == 'A':\n",
    "                    l += 1\n",
    "                else:\n",
    "                    d += 1\n",
    "                    pts += 1\n",
    "                gf += df.iloc[i]['FTHG']\n",
    "                ga += df.iloc[i]['FTAG']\n",
    "                if df.iloc[i]['FTAG'] == 0:\n",
    "                    cs += 1\n",
    "                mp += 1\n",
    "            \n",
    "            elif df.iloc[i]['AwayTeam'] == club:\n",
    "                if df.iloc[i]['FTR'] == 'H':\n",
    "                    l += 1\n",
    "                elif df.iloc[i]['FTR'] == 'A':\n",
    "                    w += 1\n",
    "                    pts += 3\n",
    "                else:\n",
    "                    d += 1\n",
    "                    pts += 1\n",
    "                gf += df.iloc[i]['FTAG']\n",
    "                ga += df.iloc[i]['FTHG']\n",
    "                if df.iloc[i]['FTHG'] == 0:\n",
    "                    cs += 1\n",
    "                mp += 1\n",
    "        gd = gf - ga\n",
    "        league_table[club] = {'MP': mp, 'W': w, 'D': d, 'L': l, 'GF': gf, 'GA': ga, 'GD': gd, 'CS': cs, 'PTS': pts}\n",
    "    \n",
    "    return league_table"
   ]
  },
  {
   "cell_type": "code",
   "execution_count": 3,
   "metadata": {},
   "outputs": [],
   "source": [
    "## function to find average of goals scored/conceded by each team\n",
    "def fill_goals(df, home, away, title):\n",
    "    table = dict()\n",
    "    \n",
    "    ## iterate though club and fill in the values in table dictionary\n",
    "    for club in clubs:\n",
    "        home_half_goals = sum(laliga[laliga['HomeTeam'] == club][home])\n",
    "        away_half_goals = sum(laliga[laliga['AwayTeam'] == club][away])\n",
    "        goals = home_half_goals + away_half_goals\n",
    "        table[club] = {title: goals / 38.0}\n",
    "    \n",
    "    return table"
   ]
  },
  {
   "cell_type": "code",
   "execution_count": 4,
   "metadata": {},
   "outputs": [],
   "source": [
    "## function to find average of goals scored/conceded by each team\n",
    "def fill_percent(df, result, title):\n",
    "    table = dict()\n",
    "    \n",
    "    ## iterate though club and fill in the values in table dictionary\n",
    "    for club in clubs:\n",
    "        win, draw, lose = 0, 0, 0\n",
    "        \n",
    "        win_home = sum(laliga[laliga['HomeTeam'] == club][result] == 'H')\n",
    "        win_away = sum(laliga[laliga['AwayTeam'] == club][result] == 'A')\n",
    "        \n",
    "        draw_home = sum(laliga[laliga['HomeTeam'] == club][result] == 'D')\n",
    "        draw_away = sum(laliga[laliga['AwayTeam'] == club][result] == 'D')\n",
    "        \n",
    "        lose_home = sum(laliga[laliga['HomeTeam'] == club][result] == 'A')\n",
    "        lose_away = sum(laliga[laliga['AwayTeam'] == club][result] == 'H')\n",
    "        \n",
    "        win = ((win_home + win_away) / 38.0) * 100\n",
    "        draw = ((draw_home + draw_away) / 38.0) * 100\n",
    "        lose = ((lose_home + lose_away) / 38.0) * 100\n",
    "        \n",
    "        table[club] =  {'W': win, 'D': draw, 'L': lose}\n",
    "    \n",
    "    return table"
   ]
  },
  {
   "cell_type": "code",
   "execution_count": 5,
   "metadata": {},
   "outputs": [],
   "source": [
    "def fill_result(result_dict, param):\n",
    "    result_list = []\n",
    "    for i in result_dict:\n",
    "        result_list.append(result_dict[i][param])\n",
    "    return result_list"
   ]
  },
  {
   "cell_type": "code",
   "execution_count": 6,
   "metadata": {},
   "outputs": [],
   "source": [
    "def home_away_wins(df):\n",
    "    home_dict = {}\n",
    "    away_dict = {}\n",
    "    for club in clubs:\n",
    "        home, away = 0, 0\n",
    "        home = sum(laliga[laliga['HomeTeam'] == club]['FTR'] == 'H')\n",
    "        away = sum(laliga[laliga['AwayTeam'] == club]['FTR'] == 'A')\n",
    "        home_dict[club] = home\n",
    "        away_dict[club] = away\n",
    "    \n",
    "    return (home_dict, away_dict)"
   ]
  },
  {
   "cell_type": "code",
   "execution_count": 7,
   "metadata": {},
   "outputs": [],
   "source": [
    "def home_away_loss(df):\n",
    "    home_dict = {}\n",
    "    away_dict = {}\n",
    "    for club in clubs:\n",
    "        home, away = 0, 0\n",
    "        home = sum(laliga[laliga['HomeTeam'] == club]['FTR'] == 'A')\n",
    "        away = sum(laliga[laliga['AwayTeam'] == club]['FTR'] == 'H')\n",
    "        home_dict[club] = home\n",
    "        away_dict[club] = away\n",
    "    \n",
    "    return (home_dict, away_dict)"
   ]
  },
  {
   "cell_type": "code",
   "execution_count": 8,
   "metadata": {},
   "outputs": [],
   "source": [
    "def goals_per_shot(df, team, shot, goal, stitle, title):\n",
    "    goals_shot = {}\n",
    "    shots, goals = 0, 0\n",
    "    \n",
    "    for club in clubs:\n",
    "        shots = sum(laliga[laliga[team] == club][shot])\n",
    "        goals = sum(laliga[laliga[team] == club][goal])\n",
    "        goals_shot[club] = {stitle: shots, 'Goals': goals, title: goals/shots}\n",
    "    \n",
    "    return goals_shot"
   ]
  },
  {
   "cell_type": "code",
   "execution_count": 9,
   "metadata": {},
   "outputs": [],
   "source": [
    "def count_avg(df,side,param,title):\n",
    "    avg = dict()\n",
    "    \n",
    "    for club in clubs:\n",
    "        count = sum(laliga[laliga[side] == club][param])\n",
    "        avg[club] = {title: count/19.0}\n",
    "    \n",
    "    return avg"
   ]
  },
  {
   "cell_type": "markdown",
   "metadata": {},
   "source": [
    "### *Slothfulwave612...*"
   ]
  }
 ],
 "metadata": {
  "kernelspec": {
   "display_name": "Python 3",
   "language": "python",
   "name": "python3"
  },
  "language_info": {
   "codemirror_mode": {
    "name": "ipython",
    "version": 3
   },
   "file_extension": ".py",
   "mimetype": "text/x-python",
   "name": "python",
   "nbconvert_exporter": "python",
   "pygments_lexer": "ipython3",
   "version": "3.6.8"
  }
 },
 "nbformat": 4,
 "nbformat_minor": 2
}
